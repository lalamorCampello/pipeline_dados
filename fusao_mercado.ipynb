{
 "cells": [
  {
   "cell_type": "markdown",
   "id": "21f3f526",
   "metadata": {},
   "source": [
    "### Extração dos dados"
   ]
  },
  {
   "cell_type": "code",
   "execution_count": 1,
   "id": "62a12233",
   "metadata": {},
   "outputs": [],
   "source": [
    "import sys\n",
    "sys.path.append('src')\n",
    "\n",
    "from processamento_dados import Dados"
   ]
  },
  {
   "cell_type": "markdown",
   "id": "18a5e46d",
   "metadata": {},
   "source": [
    "##### Caminho dos arquivos"
   ]
  },
  {
   "cell_type": "code",
   "execution_count": 2,
   "id": "4a999fe7",
   "metadata": {},
   "outputs": [],
   "source": [
    "path_json = 'data_raw/dados_empresaA.json'\n",
    "path_csv = 'data_raw/dados_empresaB.csv'"
   ]
  },
  {
   "cell_type": "markdown",
   "id": "5bdc5e7c",
   "metadata": {},
   "source": [
    "##### Extração dos dados brutos"
   ]
  },
  {
   "cell_type": "code",
   "execution_count": 3,
   "id": "157f33a5",
   "metadata": {},
   "outputs": [
    {
     "name": "stdout",
     "output_type": "stream",
     "text": [
      "Empresa A - Colunas: ['Nome do Produto', 'Categoria do Produto', 'Preço do Produto (R$)', 'Quantidade em Estoque', 'Filial']\n",
      "Empresa A - Registros: 3123\n"
     ]
    }
   ],
   "source": [
    "dados_empresaA = Dados(path_json, 'json')\n",
    "print(\"Empresa A - Colunas:\", dados_empresaA.nome_colunas)\n",
    "print(\"Empresa A - Registros:\", dados_empresaA.size_data())"
   ]
  },
  {
   "cell_type": "code",
   "execution_count": 4,
   "id": "7439b62e",
   "metadata": {},
   "outputs": [
    {
     "name": "stdout",
     "output_type": "stream",
     "text": [
      "Empresa B - Colunas: ['Nome do Item', 'Classificação do Produto', 'Valor em Reais (R$)', 'Quantidade em Estoque', 'Nome da Loja', 'Data da Venda']\n",
      "Empresa B - Registros: 1323\n"
     ]
    }
   ],
   "source": [
    "dados_empresaB = Dados(path_csv, 'csv')\n",
    "print(\"Empresa B - Colunas:\", dados_empresaB.nome_colunas)\n",
    "print(\"Empresa B - Registros:\", dados_empresaB.size_data())"
   ]
  },
  {
   "cell_type": "markdown",
   "id": "89d43575",
   "metadata": {},
   "source": [
    "### Transformando dos dados"
   ]
  },
  {
   "cell_type": "markdown",
   "id": "0e2a8464",
   "metadata": {},
   "source": [
    "##### Mapeamento dos nomes de colunas da empresa B para padronizar os dados"
   ]
  },
  {
   "cell_type": "code",
   "execution_count": 5,
   "id": "2af387ba",
   "metadata": {},
   "outputs": [],
   "source": [
    "key_mapping = {'Nome do Item' : 'Nome do Produto',\n",
    "               'Classificação do Produto' : 'Categoria do Produto',\n",
    "               'Valor em Reais (R$)' : 'Preço do Produto (R$)',\n",
    "               'Quantidade em Estoque' : 'Quantidade em Estoque',\n",
    "               'Nome da Loja' : 'Filial',\n",
    "               'Data da Venda' : 'Data da Venda'\n",
    "               }"
   ]
  },
  {
   "cell_type": "code",
   "execution_count": 6,
   "id": "d3603c60",
   "metadata": {},
   "outputs": [
    {
     "name": "stdout",
     "output_type": "stream",
     "text": [
      "Empresa B - Colunas (após renomeação): ['Nome do Produto', 'Categoria do Produto', 'Preço do Produto (R$)', 'Quantidade em Estoque', 'Filial', 'Data da Venda']\n"
     ]
    }
   ],
   "source": [
    "dados_empresaB.renomeando_colunas(key_mapping)\n",
    "print(\"Empresa B - Colunas (após renomeação):\", dados_empresaB.nome_colunas)"
   ]
  },
  {
   "cell_type": "markdown",
   "id": "df54f3d0",
   "metadata": {},
   "source": [
    "##### Fusão dos dados das duas empresas"
   ]
  },
  {
   "cell_type": "code",
   "execution_count": 7,
   "id": "5836a14c",
   "metadata": {},
   "outputs": [
    {
     "name": "stdout",
     "output_type": "stream",
     "text": [
      "Dados Fusão - Colunas: ['Nome do Produto', 'Categoria do Produto', 'Preço do Produto (R$)', 'Quantidade em Estoque', 'Filial', 'Data da Venda']\n",
      "Dados Fusão - Registros: 4446\n"
     ]
    }
   ],
   "source": [
    "dados_fusao = Dados.join(dados_empresaA, dados_empresaB)\n",
    "print(\"Dados Fusão - Colunas:\", dados_fusao.nome_colunas)\n",
    "print(\"Dados Fusão - Registros:\", dados_fusao.size_data())"
   ]
  },
  {
   "cell_type": "markdown",
   "id": "8355c185",
   "metadata": {},
   "source": [
    "### Carregamento dos Dados Processados"
   ]
  },
  {
   "cell_type": "markdown",
   "id": "27130909",
   "metadata": {},
   "source": [
    "##### Caminho dos dados processados"
   ]
  },
  {
   "cell_type": "code",
   "execution_count": 8,
   "id": "c9850d88",
   "metadata": {},
   "outputs": [],
   "source": [
    "path_dados_combinados = 'data_processed/dados_combinados.csv'"
   ]
  },
  {
   "cell_type": "markdown",
   "id": "a15c004c",
   "metadata": {},
   "source": [
    "##### Salvando os dados tratados"
   ]
  },
  {
   "cell_type": "code",
   "execution_count": 9,
   "id": "1d775ec6",
   "metadata": {},
   "outputs": [
    {
     "name": "stdout",
     "output_type": "stream",
     "text": [
      "Arquivo combinado salvo em: data_processed/dados_combinados.csv\n"
     ]
    }
   ],
   "source": [
    "dados_fusao.salvando_dados(path_dados_combinados)\n",
    "print(f\"Arquivo combinado salvo em: {path_dados_combinados}\")"
   ]
  }
 ],
 "metadata": {
  "kernelspec": {
   "display_name": "venv",
   "language": "python",
   "name": "python3"
  },
  "language_info": {
   "codemirror_mode": {
    "name": "ipython",
    "version": 3
   },
   "file_extension": ".py",
   "mimetype": "text/x-python",
   "name": "python",
   "nbconvert_exporter": "python",
   "pygments_lexer": "ipython3",
   "version": "3.10.12"
  }
 },
 "nbformat": 4,
 "nbformat_minor": 5
}
